{
 "cells": [
  {
   "cell_type": "markdown",
   "id": "fd108c53-30d9-4d2f-bd30-c490851519e3",
   "metadata": {},
   "source": [
    "# Exercices d'applications sur l'utilisation de IF, WHILE et FOR"
   ]
  },
  {
   "cell_type": "markdown",
   "id": "814f9e82-8e00-48b8-9140-6c9cd38ab28b",
   "metadata": {},
   "source": [
    "**Exercice 1** : Faire un programme R qui calcule et affiche le plus grand nombre dont le carré est inférieur à 35000"
   ]
  },
  {
   "cell_type": "code",
   "execution_count": null,
   "id": "58035b29-5afe-4c11-8117-d5df94b257e3",
   "metadata": {},
   "outputs": [],
   "source": []
  },
  {
   "cell_type": "markdown",
   "id": "3109293e-1c6e-4572-8a4f-979cf937df80",
   "metadata": {},
   "source": [
    "**Exercice 2** : Faire un programme qui :\n",
    "1) tire au hasard trois chiffres entiers compris entre -10 et 10 nommés a, b et c\n",
    "2) indique si le trinôme ax² + bx + c admet des racines réelles et, le cas échéant, affiche ces racines"
   ]
  },
  {
   "cell_type": "code",
   "execution_count": null,
   "id": "eab85c39-4c62-4f9f-a01b-a858caeaf978",
   "metadata": {},
   "outputs": [],
   "source": []
  },
  {
   "cell_type": "markdown",
   "id": "ce50f31d-007c-4046-b4fc-8631e42d0b75",
   "metadata": {},
   "source": [
    "**Exercice 3** : Soit (u_n) une suite géométrique de raison 3 et de premier terme 5.\n",
    "Faire un programme qui calcule à partir de quel rang tous les termes de la suite seront strictement supérieurs à 5000"
   ]
  },
  {
   "cell_type": "code",
   "execution_count": null,
   "id": "488ec70c-fef6-4785-b9c8-54368b88c9be",
   "metadata": {},
   "outputs": [],
   "source": []
  },
  {
   "cell_type": "markdown",
   "id": "d02f9153-d6b2-4360-ba07-beb5cb477c95",
   "metadata": {},
   "source": [
    "**Exercice 4** : Le montant de l’impôt annuel est calculé de la manière suivante : le net imposable (salaire annuel brut réduit de 22 %) est imposé par tranches :\n",
    "- en deça de 9700 euros : 0 %\n",
    "- de 9701 à 27000 euros : 14 % \n",
    "- de 27001 à 72000 euros : 30 % \n",
    "- de 72001 à 152000 euros : 41 %\n",
    "- au delà de 152001 euros : 45 %\n",
    "Le total est arrondi à l’euro inférieur.\n",
    "1. Calculer à la main (et à l'aide de l'ordinateur) le montant de l’impôt pour un salaire annuel brut de 35000 euros\n",
    "(réponse : 2512 euros). "
   ]
  },
  {
   "cell_type": "code",
   "execution_count": null,
   "id": "6cd42ff0-5da2-4439-aee8-f9236ab3c390",
   "metadata": {},
   "outputs": [],
   "source": []
  },
  {
   "cell_type": "markdown",
   "id": "a75da85f-c004-4703-9c9f-cef030ead5b5",
   "metadata": {},
   "source": [
    "2. Ecrire un programme qui permet de calculer le montant de l'impot annuel quelque soit le salaire de la personne. Le programme doit écrire le montant à payer."
   ]
  },
  {
   "cell_type": "code",
   "execution_count": null,
   "id": "8258ee76-56df-49c5-b0d0-bbee82d27a96",
   "metadata": {},
   "outputs": [],
   "source": []
  },
  {
   "cell_type": "markdown",
   "id": "d97e1f72-1f46-4295-baa8-61bf7c2e1f17",
   "metadata": {},
   "source": [
    "3. Tester votre programme pour un montant de 10000, 50000 et 100000 euros annuel brut."
   ]
  },
  {
   "cell_type": "code",
   "execution_count": null,
   "id": "7906b983-713e-4088-8ba4-db7a5fc79c20",
   "metadata": {},
   "outputs": [],
   "source": []
  },
  {
   "cell_type": "markdown",
   "id": "e70de187-46d8-4c50-8ca3-4d734f2d8fc0",
   "metadata": {},
   "source": [
    "4. (bonus) Faire un graphique représentant l'impôt à payer en fonction du salaire net imposable.\n",
    "\n",
    "Aidez vous de ce lien pour faire le graphique : https://www.datanovia.com/en/fr/lessons/ggplot-line-plot/"
   ]
  },
  {
   "cell_type": "code",
   "execution_count": null,
   "id": "cb1af186-f2a9-497d-9048-855246f219cf",
   "metadata": {},
   "outputs": [],
   "source": []
  },
  {
   "cell_type": "markdown",
   "id": "c7dfe312-e3d2-4397-9527-b38f9a59d3a3",
   "metadata": {},
   "source": [
    "**Exercice 5** (Syracuse) : \n",
    "1. Faire un programme qui tire au hasard un entier naturel n et qui affiche les termes de la suite ($u_n$) définie par récurrence suivante :\n",
    "- Le premier terme de la suite est le nombre tiré au hasard\n",
    "- Si $u_n$ est pair, $u_{n+1} = u_n/2$\n",
    "- Si $u_n$ est impair $u_{n+1} = 3u_n + 1$\n",
    "- On s’arrête dès qu’un terme de la suite vaut 1."
   ]
  },
  {
   "cell_type": "code",
   "execution_count": null,
   "id": "fb8d40f8-dff8-45c2-8a18-161f91f1f762",
   "metadata": {},
   "outputs": [],
   "source": []
  },
  {
   "cell_type": "markdown",
   "id": "809719c6-75e2-4dfb-b275-d820e1340d58",
   "metadata": {},
   "source": [
    "2. (bonus) Parmi les nombres de 2 à 100, quel est le nombre qui permet d’obtenir la suite “la plus longue”"
   ]
  },
  {
   "cell_type": "code",
   "execution_count": null,
   "id": "fd39a4a9-26a9-4831-a1f5-fdba8a367832",
   "metadata": {},
   "outputs": [],
   "source": []
  }
 ],
 "metadata": {
  "kernelspec": {
   "display_name": "R",
   "language": "R",
   "name": "ir"
  },
  "language_info": {
   "codemirror_mode": "r",
   "file_extension": ".r",
   "mimetype": "text/x-r-source",
   "name": "R",
   "pygments_lexer": "r",
   "version": "3.6.1"
  }
 },
 "nbformat": 4,
 "nbformat_minor": 5
}
